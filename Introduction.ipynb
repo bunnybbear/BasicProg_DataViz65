{
  "nbformat": 4,
  "nbformat_minor": 0,
  "metadata": {
    "colab": {
      "name": "Untitled0.ipynb",
      "provenance": [],
      "authorship_tag": "ABX9TyMQ8Ss6HgCAIxYK248nbZMR",
      "include_colab_link": true
    },
    "kernelspec": {
      "name": "python3",
      "display_name": "Python 3"
    },
    "language_info": {
      "name": "python"
    }
  },
  "cells": [
    {
      "cell_type": "markdown",
      "metadata": {
        "id": "view-in-github",
        "colab_type": "text"
      },
      "source": [
        "<a href=\"https://colab.research.google.com/github/bunnybbear/BasicProg_DataViz65/blob/main/Introduction.ipynb\" target=\"_parent\"><img src=\"https://colab.research.google.com/assets/colab-badge.svg\" alt=\"Open In Colab\"/></a>"
      ]
    },
    {
      "cell_type": "code",
      "execution_count": null,
      "metadata": {
        "id": "9fUQTCmqF580"
      },
      "outputs": [],
      "source": [
        ""
      ]
    },
    {
      "cell_type": "markdown",
      "source": [
        "ปิ่นมนัส สุระเกษ(0183)"
      ],
      "metadata": {
        "id": "GVqhJu2ZF8Gd"
      }
    },
    {
      "cell_type": "markdown",
      "source": [
        "#Markdown\n",
        "https://www.markdownguide.org/cheat-sheet/"
      ],
      "metadata": {
        "id": "EAJVihSNGCN-"
      }
    },
    {
      "cell_type": "markdown",
      "source": [
        "##heading2"
      ],
      "metadata": {
        "id": "CJwFZOQcGao4"
      }
    },
    {
      "cell_type": "code",
      "source": [
        "print('Pinmanat')"
      ],
      "metadata": {
        "colab": {
          "base_uri": "https://localhost:8080/"
        },
        "id": "qCsApq-7GROy",
        "outputId": "95fffb68-7802-4b8b-ecf2-334ba542bce4"
      },
      "execution_count": 1,
      "outputs": [
        {
          "output_type": "stream",
          "name": "stdout",
          "text": [
            "Pinmanat\n"
          ]
        }
      ]
    }
  ]
}