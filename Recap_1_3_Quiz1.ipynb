{
  "nbformat": 4,
  "nbformat_minor": 0,
  "metadata": {
    "colab": {
      "name": "Recap 1-3 Quiz1.ipynb",
      "provenance": [],
      "include_colab_link": true
    },
    "kernelspec": {
      "name": "python3",
      "display_name": "Python 3"
    },
    "language_info": {
      "name": "python"
    }
  },
  "cells": [
    {
      "cell_type": "markdown",
      "metadata": {
        "id": "view-in-github",
        "colab_type": "text"
      },
      "source": [
        "<a href=\"https://colab.research.google.com/github/bunnybbear/BasicProg_DataViz65/blob/main/Recap_1_3_Quiz1.ipynb\" target=\"_parent\"><img src=\"https://colab.research.google.com/assets/colab-badge.svg\" alt=\"Open In Colab\"/></a>"
      ]
    },
    {
      "cell_type": "markdown",
      "source": [
        "Quiz 1 \n",
        "\n",
        "คำนวณเวลาเป็นความต่างของเวลาเป็นวินาทีของช่วงเวลาต่อไปนี้โดยใช้คำสั่ง split() ช่วย และ print ออกมาให้สวยงาม\n",
        "\n",
        "* 09:11:50 - 12:30:15\n",
        "* 13:41:07 - 20:00:18\n",
        "* 21:30:15 - 00:00:00\n",
        "* 00:00:00 - 23:59:59\n",
        "\n",
        "\n",
        "\n",
        "\n",
        "\n"
      ],
      "metadata": {
        "id": "FKKg2s03yfKC"
      }
    },
    {
      "cell_type": "code",
      "execution_count": 9,
      "metadata": {
        "id": "JHgL5URByL6e",
        "outputId": "fda2c796-cf2e-4725-a6d6-888e01f61120",
        "colab": {
          "base_uri": "https://localhost:8080/"
        }
      },
      "outputs": [
        {
          "output_type": "stream",
          "name": "stdout",
          "text": [
            "09:11:50 - 12:30:15 คำนวณเวลาเป็นความต่างของเวลาเป็นวินาที ได้ 11965 วินาที\n"
          ]
        }
      ],
      "source": [
        "#09:11:50 - 12:30:15\n",
        "a = ((12*60)*(60)+(30*60)+15)-((9*60)*(60)+(10*60)+50)\n",
        "print(f'09:11:50 - 12:30:15 คำนวณเวลาเป็นความต่างของเวลาเป็นวินาที ได้ {a} วินาที')"
      ]
    },
    {
      "cell_type": "code",
      "source": [
        "#13:41:07 - 20:00:18\n",
        "b = ((20*60)*(60)+(0*60)+18)-((13*60)*(60)+(41*60)+7)\n",
        "print(f'13:41:07 - 20:00:18 คำนวณเวลาเป็นความต่างของเวลาเป็นวินาที ได้ {b} วินาที')"
      ],
      "metadata": {
        "id": "Vc8m1Vbo8sK1",
        "outputId": "976eb1b4-e991-4ef0-f2ab-455929a16877",
        "colab": {
          "base_uri": "https://localhost:8080/"
        }
      },
      "execution_count": 6,
      "outputs": [
        {
          "output_type": "stream",
          "name": "stdout",
          "text": [
            "13:41:07 - 20:00:18 คำนวณเวลาเป็นความต่างของเวลาเป็นวินาที ได้ 22751 วินาที\n"
          ]
        }
      ]
    },
    {
      "cell_type": "code",
      "source": [
        "#21:30:15 - 00:00:00\n",
        "c = ((24*60)*(60)+(0*60)+0)-((21*60)*(60)+(30*60)+15)\n",
        "print(f'21:30:15 - 00:00:00 คำนวณเวลาเป็นความต่างของเวลาเป็นวินาที ได้ {c} วินาที')"
      ],
      "metadata": {
        "id": "xZbr49K69yPA",
        "outputId": "731ee76e-ef04-464f-d6e4-92698fc059b0",
        "colab": {
          "base_uri": "https://localhost:8080/"
        }
      },
      "execution_count": 7,
      "outputs": [
        {
          "output_type": "stream",
          "name": "stdout",
          "text": [
            "21:30:15 - 00:00:00 คำนวณเวลาเป็นความต่างของเวลาเป็นวินาที ได้ 8985 วินาที\n"
          ]
        }
      ]
    },
    {
      "cell_type": "code",
      "source": [
        "#00:00:00 - 23:59:59\n",
        "d = ((23*60)*(60)+(59*60)+59)-((0*60)*(60)+(0*60)+0)\n",
        "print(f'21:30:15 - 00:00:00 คำนวณเวลาเป็นความต่างของเวลาเป็นวินาที ได้ {d} วินาที')"
      ],
      "metadata": {
        "id": "aroZ2TcD-qDx",
        "outputId": "61c7542c-18d5-427e-d9bf-747169f5328d",
        "colab": {
          "base_uri": "https://localhost:8080/"
        }
      },
      "execution_count": 8,
      "outputs": [
        {
          "output_type": "stream",
          "name": "stdout",
          "text": [
            "21:30:15 - 00:00:00 คำนวณเวลาเป็นความต่างของเวลาเป็นวินาที ได้ 86399 วินาที\n"
          ]
        }
      ]
    },
    {
      "cell_type": "code",
      "source": [
        ""
      ],
      "metadata": {
        "id": "lT-P8JUG_O2v"
      },
      "execution_count": null,
      "outputs": []
    }
  ]
}